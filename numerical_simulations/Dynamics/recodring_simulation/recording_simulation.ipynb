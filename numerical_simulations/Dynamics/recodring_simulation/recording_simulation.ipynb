{
 "cells": [
  {
   "cell_type": "code",
   "execution_count": 1,
   "id": "58c76b0f-5d69-43d4-8f8f-411466597249",
   "metadata": {},
   "outputs": [
    {
     "name": "stdout",
     "output_type": "stream",
     "text": [
      "Populating the interactive namespace from numpy and matplotlib\n"
     ]
    }
   ],
   "source": [
    "%pylab inline\n",
    "from random import sample"
   ]
  },
  {
   "cell_type": "markdown",
   "id": "accad9d3-e53b-4316-a814-5d4b50830cd1",
   "metadata": {},
   "source": [
    "# Simulation of a recorded dynamic retrieval"
   ]
  },
  {
   "cell_type": "code",
   "execution_count": 2,
   "id": "6aa9511b-997d-46db-bb58-11f5ef6a8835",
   "metadata": {},
   "outputs": [],
   "source": [
    "v1 = np.load('dynamics/dynamic_1.npy')\n",
    "v2 = np.load('dynamics/dynamic_2.npy')\n",
    "pfc = np.load('dynamics/pfc.npy')"
   ]
  },
  {
   "cell_type": "code",
   "execution_count": 19,
   "id": "c959ae80-6ab6-4bc4-a5bb-3e14dad6896a",
   "metadata": {},
   "outputs": [],
   "source": [
    "start_time = 100\n",
    "end_time = 300\n",
    "n_cells = 15\n",
    "random.seed(1)\n",
    "\n",
    "v1_s = v1[start_time:end_time]\n",
    "pfc_s = pfc[start_time:end_time]\n",
    "idx = sample(range(v1.shape[1]),n_cells)\n",
    "v1_s = v1_s.T[idx]\n",
    "pfc_s = pfc.T[idx]\n"
   ]
  },
  {
   "cell_type": "code",
   "execution_count": 20,
   "id": "7d01f5ae-71ae-4aee-9615-a6cb1b9c871c",
   "metadata": {},
   "outputs": [],
   "source": [
    "sampling_rate = 25\n",
    "noise_firing_rate = 0.2\n",
    "n_cells = v1_s.shape[0]\n",
    "times = arange(0,v1_s.shape[1])\n",
    "spikes = []\n",
    "for i in range(n_cells):\n",
    "    inst_rate = v1_s[i] + noise_firing_rate\n",
    "    spikes_loc = np.random.poisson(inst_rate/sampling_rate)\n",
    "    sp = np.argwhere(spikes_loc)\n",
    "    t_sp = times[sp].flatten()\n",
    "    spikes.append(t_sp)\n",
    "spikes = [asarray(s)/2 for s in spikes]\n"
   ]
  },
  {
   "cell_type": "code",
   "execution_count": 21,
   "id": "08c5f4bd-4c52-46ec-ab78-505503c86772",
   "metadata": {},
   "outputs": [
    {
     "data": {
      "image/png": "[encoded data removed]",
      "text/plain": [
       "<Figure size 1440x360 with 3 Axes>"
      ]
     },
     "metadata": {
      "needs_background": "light"
     },
     "output_type": "display_data"
    }
   ],
   "source": [
    "fig,ax = subplots(1,3,figsize = (20,5),sharey=True)\n",
    "\n",
    "color_map = cm.get_cmap('plasma', n_cells).colors\n",
    "\n",
    "spikes1 = [spikes[i] for i in argsort(pfc_s.T[0])]\n",
    "ax[0].eventplot(spikes1,color=color_map, linelengths = 0.4,linewidths=3);     \n",
    "#ax[0].set_xlim(25,205)\n",
    "ax[0].set_title(\"manifold 1 sorting\",fontsize=20,y=1.05)\n",
    "ax[0].set_ylabel(\"cell number\",fontsize=20)\n",
    "ax[0].set_xlabel(\"time (ms)\",fontsize=20)\n",
    "ax[0].tick_params(axis='both', which='major', labelsize=15)\n",
    "#ax2 =subplot(1,3,2)\n",
    "spikes2 = [spikes[i] for i in argsort(pfc_s.T[1])]\n",
    "ax[1].eventplot(spikes2,color=color_map, linelengths = 0.4,linewidths=3);  \n",
    "#ax[1].set_xlim(25,205)\n",
    "ax[1].set_title(\"manifold 2 sorting\",fontsize=20,y=1.05)\n",
    "ax[1].tick_params(axis='both', which='major', labelsize=15)\n",
    "ax[1].set_xlabel(\"time (ms)\",fontsize=20)\n",
    "#ax3 = subplot(1,3,3)\n",
    "spikes3 = [spikes[i] for i in argsort(pfc_s.T[2])]\n",
    "ax[2].eventplot(spikes3,color=color_map, linelengths = 0.4,linewidths=3); \n",
    "#ax[2].set_xlim(25,105)\n",
    "ax[2].set_title(\"manifold 3 sorting\",fontsize=20,y=1.05)\n",
    "ax[2].set_yticks([0,5,10,15])\n",
    "ax[2].tick_params(axis='both', which='major', labelsize=15)\n",
    "ax[2].set_xlabel(\"time (ms)\",fontsize=20)\n",
    "\n",
    "tight_layout()\n",
    "plt.savefig(\"replay_example2.svg\",dpi=1000)"
   ]
  },
  {
   "cell_type": "code",
   "execution_count": null,
   "id": "19ddaadf-972e-466b-8558-7b448f4d549a",
   "metadata": {},
   "outputs": [],
   "source": []
  }
 ],
 "metadata": {
  "kernelspec": {
   "display_name": "Python 3",
   "language": "python",
   "name": "python3"
  },
  "language_info": {
   "codemirror_mode": {
    "name": "ipython",
    "version": 3
   },
   "file_extension": ".py",
   "mimetype": "text/x-python",
   "name": "python",
   "nbconvert_exporter": "python",
   "pygments_lexer": "ipython3",
   "version": "3.8.5"
  }
 },
 "nbformat": 4,
 "nbformat_minor": 5
}
